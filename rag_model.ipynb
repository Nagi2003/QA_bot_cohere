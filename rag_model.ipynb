{
 "cells": [
  {
   "cell_type": "code",
   "execution_count": 1,
   "metadata": {},
   "outputs": [
    {
     "name": "stdout",
     "output_type": "stream",
     "text": [
      "sagemaker.config INFO - Not applying SDK defaults from location: C:\\ProgramData\\sagemaker\\sagemaker\\config.yaml\n",
      "sagemaker.config INFO - Not applying SDK defaults from location: C:\\Users\\Nagendra\\AppData\\Local\\sagemaker\\sagemaker\\config.yaml\n"
     ]
    },
    {
     "name": "stderr",
     "output_type": "stream",
     "text": [
      "d:\\GenAI\\QA_Bot_Pinecone_CohereAPI\\venv\\lib\\site-packages\\pinecone\\data\\index.py:1: TqdmWarning: IProgress not found. Please update jupyter and ipywidgets. See https://ipywidgets.readthedocs.io/en/stable/user_install.html\n",
      "  from tqdm.autonotebook import tqdm\n"
     ]
    }
   ],
   "source": [
    "import cohere\n",
    "import langchain\n",
    "import pinecone\n",
    "from langchain_community.document_loaders import PyPDFDirectoryLoader  \n",
    "from langchain.text_splitter import RecursiveCharacterTextSplitter\n",
    "from langchain_cohere.embeddings import CohereEmbeddings  \n",
    "from langchain_community.vectorstores import Pinecone as PineconeVectorstore  \n",
    "from langchain_cohere.llms import Cohere  \n",
    "from langchain.chains.question_answering import load_qa_chain\n",
    "from dotenv import load_dotenv\n",
    "load_dotenv()\n",
    "import os"
   ]
  },
  {
   "cell_type": "code",
   "execution_count": 2,
   "metadata": {},
   "outputs": [],
   "source": [
    "PINECONE_API_KEY = os.getenv('PINECONE_API_KEY')\n",
    "PINECONE_ENV = os.getenv('PINECONE_ENV')\n",
    "COHERE_API_KEY = os.getenv('COHERE_API_KEY')"
   ]
  },
  {
   "cell_type": "code",
   "execution_count": 3,
   "metadata": {},
   "outputs": [],
   "source": [
    "cohere_client = cohere.Client(COHERE_API_KEY)"
   ]
  },
  {
   "cell_type": "code",
   "execution_count": 4,
   "metadata": {},
   "outputs": [],
   "source": [
    "def read_doc(directory):\n",
    "    file_loader = PyPDFDirectoryLoader(directory)\n",
    "    documents = file_loader.load()\n",
    "    return documents\n",
    "\n",
    "doc = read_doc('data/')"
   ]
  },
  {
   "cell_type": "code",
   "execution_count": 5,
   "metadata": {},
   "outputs": [],
   "source": [
    "def chunk_data(docs, chunk_size=800, chunk_overlap=50):\n",
    "    text_splitter = RecursiveCharacterTextSplitter(chunk_size=chunk_size, chunk_overlap=chunk_overlap)\n",
    "    doc = text_splitter.split_documents(docs)\n",
    "    return doc\n",
    "\n",
    "documents = chunk_data(docs=doc)"
   ]
  },
  {
   "cell_type": "code",
   "execution_count": 6,
   "metadata": {},
   "outputs": [],
   "source": [
    "embeddings = CohereEmbeddings(model=\"embed-english-v2.0\")"
   ]
  },
  {
   "cell_type": "code",
   "execution_count": 7,
   "metadata": {},
   "outputs": [],
   "source": [
    "index_name = \"qa-bot-cohere\"  "
   ]
  },
  {
   "cell_type": "code",
   "execution_count": 8,
   "metadata": {},
   "outputs": [],
   "source": [
    "## Initialize Pinecone and check if the index exists\n",
    "from pinecone import Pinecone, ServerlessSpec\n",
    "\n",
    "pc = Pinecone(api_key=PINECONE_API_KEY)\n",
    "\n",
    "# If index doesn't exist, create it\n",
    "if index_name not in pc.list_indexes().names():\n",
    "    pc.create_index(\n",
    "        name=index_name,\n",
    "        dimension=4096, \n",
    "        metric='cosine', \n",
    "        spec=ServerlessSpec(cloud='aws', region='us-east-1')  # Adjust cloud and region as necessary\n",
    "    )"
   ]
  },
  {
   "cell_type": "code",
   "execution_count": 9,
   "metadata": {},
   "outputs": [],
   "source": [
    "index = pc.Index(index_name)\n",
    "\n",
    "pinecone_index = PineconeVectorstore.from_documents(documents, embeddings, index_name=index_name)"
   ]
  },
  {
   "cell_type": "code",
   "execution_count": 10,
   "metadata": {},
   "outputs": [],
   "source": [
    "def retrieve_query(query):\n",
    "    matching_results = pinecone_index.similarity_search(query)\n",
    "    return matching_results"
   ]
  },
  {
   "cell_type": "code",
   "execution_count": 11,
   "metadata": {},
   "outputs": [
    {
     "name": "stderr",
     "output_type": "stream",
     "text": [
      "C:\\Users\\Nagendra\\AppData\\Local\\Temp\\ipykernel_13528\\1302075623.py:2: LangChainDeprecationWarning: This class is deprecated. See the following migration guides for replacements based on `chain_type`:\n",
      "stuff: https://python.langchain.com/docs/versions/migrating_chains/stuff_docs_chain\n",
      "map_reduce: https://python.langchain.com/docs/versions/migrating_chains/map_reduce_chain\n",
      "refine: https://python.langchain.com/docs/versions/migrating_chains/refine_chain\n",
      "map_rerank: https://python.langchain.com/docs/versions/migrating_chains/map_rerank_docs_chain\n",
      "\n",
      "See also guides on retrieval and question-answering here: https://python.langchain.com/docs/how_to/#qa-with-rag\n",
      "  chain = load_qa_chain(llm, chain_type=\"stuff\")\n"
     ]
    }
   ],
   "source": [
    "llm = Cohere(temperature=0.1)  \n",
    "chain = load_qa_chain(llm, chain_type=\"stuff\")"
   ]
  },
  {
   "cell_type": "code",
   "execution_count": 14,
   "metadata": {},
   "outputs": [],
   "source": [
    "def retrieve_answers(query,k=2):\n",
    "    doc_search = retrieve_query(query)\n",
    "    print(doc_search)\n",
    "    \n",
    "    response = chain.run(input_documents=doc_search, question=query)\n",
    "    return response"
   ]
  },
  {
   "cell_type": "code",
   "execution_count": 15,
   "metadata": {},
   "outputs": [
    {
     "name": "stdout",
     "output_type": "stream",
     "text": [
      "[Document(metadata={'page': 81.0, 'source': 'data\\\\NASDAQ_MSFT_2023.pdf'}, page_content='that (1)  pertain to the maintenance of records that, in reasonable detail, accurately and fairly reflect the transactions and \\ndispositions o f the assets of the company; (2)  provide reasonable assurance that transactions are recorded as necessary \\nto permit preparation of financial statements in accordance with generally accepted accounting principles, and that receipts \\nand expenditures of the c ompany are being made only in accordance with authorizations of management and directors of \\nthe company; and (3)  provide reasonable assurance regarding prevention or timely detection of unauthorized acquisition, \\nuse, or disposition of the company’s assets that could have a material effect on the financial statements.'), Document(metadata={'page': 81.0, 'source': 'data\\\\NASDAQ_MSFT_2023.pdf'}, page_content='that (1)  pertain to the maintenance of records that, in reasonable detail, accurately and fairly reflect the transactions and \\ndispositions o f the assets of the company; (2)  provide reasonable assurance that transactions are recorded as necessary \\nto permit preparation of financial statements in accordance with generally accepted accounting principles, and that receipts \\nand expenditures of the c ompany are being made only in accordance with authorizations of management and directors of \\nthe company; and (3)  provide reasonable assurance regarding prevention or timely detection of unauthorized acquisition, \\nuse, or disposition of the company’s assets that could have a material effect on the financial statements.'), Document(metadata={'page': 81.0, 'source': 'data\\\\NASDAQ_MSFT_2023.pdf'}, page_content='that (1)  pertain to the maintenance of records that, in reasonable detail, accurately and fairly reflect the transactions and \\ndispositions o f the assets of the company; (2)  provide reasonable assurance that transactions are recorded as necessary \\nto permit preparation of financial statements in accordance with generally accepted accounting principles, and that receipts \\nand expenditures of the c ompany are being made only in accordance with authorizations of management and directors of \\nthe company; and (3)  provide reasonable assurance regarding prevention or timely detection of unauthorized acquisition, \\nuse, or disposition of the company’s assets that could have a material effect on the financial statements.'), Document(metadata={'page': 81.0, 'source': 'data\\\\NASDAQ_MSFT_2023.pdf'}, page_content='that (1)  pertain to the maintenance of records that, in reasonable detail, accurately and fairly reflect the transactions and \\ndispositions o f the assets of the company; (2)  provide reasonable assurance that transactions are recorded as necessary \\nto permit preparation of financial statements in accordance with generally accepted accounting principles, and that receipts \\nand expenditures of the c ompany are being made only in accordance with authorizations of management and directors of \\nthe company; and (3)  provide reasonable assurance regarding prevention or timely detection of unauthorized acquisition, \\nuse, or disposition of the company’s assets that could have a material effect on the financial statements.')]\n"
     ]
    },
    {
     "name": "stderr",
     "output_type": "stream",
     "text": [
      "C:\\Users\\Nagendra\\AppData\\Local\\Temp\\ipykernel_13528\\3737826303.py:5: LangChainDeprecationWarning: The method `Chain.run` was deprecated in langchain 0.1.0 and will be removed in 1.0. Use :meth:`~invoke` instead.\n",
      "  response = chain.run(input_documents=doc_search, question=query)\n"
     ]
    },
    {
     "name": "stdout",
     "output_type": "stream",
     "text": [
      " The responsibilities in the document pertain to maintaining detailed and accurate records of transactions and assets, \n",
      "ensuring transactions are recorded to prepare financial statements, and that all expenditures are done so with the proper \n",
      "authorizations from management. \n",
      "These measures are meant to provide reasonable assurance that any unauthorized acquisition, use, or disposition of the \n",
      "company's assets that could affect the financial statements can be detected in a timely manner. \n",
      "These measures are set forth to provide accountability and transparency within the company. \n",
      "If there is anything more specific you would like me to answer regarding the above responsibilities, I'd be happy to. \n"
     ]
    }
   ],
   "source": [
    "# Example query\n",
    "our_query = \"What are the responsibilities mentioned in the document?\"\n",
    "answer = retrieve_answers(our_query)\n",
    "print(answer)"
   ]
  },
  {
   "cell_type": "code",
   "execution_count": null,
   "metadata": {},
   "outputs": [],
   "source": []
  }
 ],
 "metadata": {
  "kernelspec": {
   "display_name": "Python 3",
   "language": "python",
   "name": "python3"
  },
  "language_info": {
   "codemirror_mode": {
    "name": "ipython",
    "version": 3
   },
   "file_extension": ".py",
   "mimetype": "text/x-python",
   "name": "python",
   "nbconvert_exporter": "python",
   "pygments_lexer": "ipython3",
   "version": "3.9.0"
  }
 },
 "nbformat": 4,
 "nbformat_minor": 2
}
